{
 "cells": [
  {
   "cell_type": "code",
   "execution_count": 7,
   "metadata": {
    "collapsed": true
   },
   "outputs": [],
   "source": [
    "#!/bin/python3\n",
    "\n",
    "import math\n",
    "import os\n",
    "import random\n",
    "import re\n",
    "import sys\n",
    "\n",
    "# Complete the sockMerchant function below.\n",
    "def sockMerchant(n, ar):\n",
    "    pair=[]\n",
    "    a=set(ar)\n",
    "    c=0\n",
    "    p=0\n",
    "    if(n>=1 and n<=100):\n",
    "        for j in a:\n",
    "            if(j>=1 and j<=100):\n",
    "                c=0\n",
    "                for i in ar:\n",
    "                    if(i==j):\n",
    "                        c=c+1\n",
    "                        if(c==2):\n",
    "                            print(j)\n",
    "                            p=1\n",
    "                            pair.append(p)\n",
    "        #                     print(j,\"has\",p,\"pair\")\n",
    "                            c=0\n",
    "            else:\n",
    "                return \"Constraint violated\"\n",
    "    else:\n",
    "        return \"Constraint violated\"\n",
    "\n",
    "    return sum(pair)                \n",
    "            \n",
    "        \n",
    "    \n",
    "    \n",
    "    \n",
    "\n",
    "if __name__ == '__main__':\n",
    "    fptr = open('C:\\\\Users\\\\ashis.panda\\\\Desktop\\\\new.txt', 'w')\n",
    "    print(fptr)\n",
    "    n = int(input())\n",
    "#     print(n)\n",
    "    ar = list(map(int, input().rstrip().split()))\n",
    "#     print(ar)\n",
    "    result = sockMerchant(n, ar)\n",
    "\n",
    "    fptr.write(str(result) + '\\n')\n",
    "\n",
    "    fptr.close()        "
   ]
  },
  {
   "cell_type": "code",
   "execution_count": null,
   "metadata": {
    "collapsed": true
   },
   "outputs": [],
   "source": []
  }
 ],
 "metadata": {
  "kernelspec": {
   "display_name": "Python 3",
   "language": "python",
   "name": "python3"
  },
  "language_info": {
   "codemirror_mode": {
    "name": "ipython",
    "version": 3
   },
   "file_extension": ".py",
   "mimetype": "text/x-python",
   "name": "python",
   "nbconvert_exporter": "python",
   "pygments_lexer": "ipython3",
   "version": "3.6.2"
  }
 },
 "nbformat": 4,
 "nbformat_minor": 2
}
